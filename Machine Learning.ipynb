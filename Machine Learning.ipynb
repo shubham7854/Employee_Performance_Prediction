{
  "cells": [
    {
      "cell_type": "code",
      "execution_count": 3,
      "metadata": {
        "id": "87vbHK1y-at1"
      },
      "outputs": [],
      "source": [
        "import pandas as pd\n",
        "import seaborn as sns\n",
        "import matplotlib.pyplot as plt\n",
        "##import MultiColumnLabelEncoder\n",
        "from sklearn.model_selection import train_test_split\n",
        "from sklearn.linear_model import LinearRegression\n",
        "from sklearn.metrics import mean_squared_error\n",
        "from sklearn.metrics import r2_score\n",
        "from sklearn.metrics import mean_absolute_error\n",
        "from sklearn.ensemble import RandomForestRegressor\n",
        "import xgboost as xgb\n",
        "import pickle"
      ]
    },
    {
      "cell_type": "code",
      "execution_count": 6,
      "metadata": {
        "id": "VBeoKR8G_7xa"
      },
      "outputs": [
        {
          "data": {
            "application/vnd.microsoft.datawrangler.viewer.v0+json": {
              "columns": [
                {
                  "name": "index",
                  "rawType": "int64",
                  "type": "integer"
                },
                {
                  "name": "date",
                  "rawType": "object",
                  "type": "string"
                },
                {
                  "name": "quarter",
                  "rawType": "object",
                  "type": "string"
                },
                {
                  "name": "department",
                  "rawType": "object",
                  "type": "string"
                },
                {
                  "name": "day",
                  "rawType": "object",
                  "type": "string"
                },
                {
                  "name": "team",
                  "rawType": "int64",
                  "type": "integer"
                },
                {
                  "name": "targeted_productivity",
                  "rawType": "float64",
                  "type": "float"
                },
                {
                  "name": "smv",
                  "rawType": "float64",
                  "type": "float"
                },
                {
                  "name": "wip",
                  "rawType": "float64",
                  "type": "float"
                },
                {
                  "name": "over_time",
                  "rawType": "int64",
                  "type": "integer"
                },
                {
                  "name": "incentive",
                  "rawType": "int64",
                  "type": "integer"
                },
                {
                  "name": "idle_time",
                  "rawType": "float64",
                  "type": "float"
                },
                {
                  "name": "idle_men",
                  "rawType": "int64",
                  "type": "integer"
                },
                {
                  "name": "no_of_style_change",
                  "rawType": "int64",
                  "type": "integer"
                },
                {
                  "name": "no_of_workers",
                  "rawType": "float64",
                  "type": "float"
                },
                {
                  "name": "actual_productivity",
                  "rawType": "float64",
                  "type": "float"
                }
              ],
              "ref": "4b331110-52b7-4847-8433-bd8bc85e423e",
              "rows": [
                [
                  "0",
                  "1/1/2015",
                  "Quarter1",
                  "sweing",
                  "Thursday",
                  "8",
                  "0.8",
                  "26.16",
                  "1108.0",
                  "7080",
                  "98",
                  "0.0",
                  "0",
                  "0",
                  "59.0",
                  "0.940725424"
                ],
                [
                  "1",
                  "1/1/2015",
                  "Quarter1",
                  "finishing ",
                  "Thursday",
                  "1",
                  "0.75",
                  "3.94",
                  null,
                  "960",
                  "0",
                  "0.0",
                  "0",
                  "0",
                  "8.0",
                  "0.8865"
                ],
                [
                  "2",
                  "1/1/2015",
                  "Quarter1",
                  "sweing",
                  "Thursday",
                  "11",
                  "0.8",
                  "11.41",
                  "968.0",
                  "3660",
                  "50",
                  "0.0",
                  "0",
                  "0",
                  "30.5",
                  "0.800570492"
                ],
                [
                  "3",
                  "1/1/2015",
                  "Quarter1",
                  "sweing",
                  "Thursday",
                  "12",
                  "0.8",
                  "11.41",
                  "968.0",
                  "3660",
                  "50",
                  "0.0",
                  "0",
                  "0",
                  "30.5",
                  "0.800570492"
                ],
                [
                  "4",
                  "1/1/2015",
                  "Quarter1",
                  "sweing",
                  "Thursday",
                  "6",
                  "0.8",
                  "25.9",
                  "1170.0",
                  "1920",
                  "50",
                  "0.0",
                  "0",
                  "0",
                  "56.0",
                  "0.800381944"
                ]
              ],
              "shape": {
                "columns": 15,
                "rows": 5
              }
            },
            "text/html": [
              "<div>\n",
              "<style scoped>\n",
              "    .dataframe tbody tr th:only-of-type {\n",
              "        vertical-align: middle;\n",
              "    }\n",
              "\n",
              "    .dataframe tbody tr th {\n",
              "        vertical-align: top;\n",
              "    }\n",
              "\n",
              "    .dataframe thead th {\n",
              "        text-align: right;\n",
              "    }\n",
              "</style>\n",
              "<table border=\"1\" class=\"dataframe\">\n",
              "  <thead>\n",
              "    <tr style=\"text-align: right;\">\n",
              "      <th></th>\n",
              "      <th>date</th>\n",
              "      <th>quarter</th>\n",
              "      <th>department</th>\n",
              "      <th>day</th>\n",
              "      <th>team</th>\n",
              "      <th>targeted_productivity</th>\n",
              "      <th>smv</th>\n",
              "      <th>wip</th>\n",
              "      <th>over_time</th>\n",
              "      <th>incentive</th>\n",
              "      <th>idle_time</th>\n",
              "      <th>idle_men</th>\n",
              "      <th>no_of_style_change</th>\n",
              "      <th>no_of_workers</th>\n",
              "      <th>actual_productivity</th>\n",
              "    </tr>\n",
              "  </thead>\n",
              "  <tbody>\n",
              "    <tr>\n",
              "      <th>0</th>\n",
              "      <td>1/1/2015</td>\n",
              "      <td>Quarter1</td>\n",
              "      <td>sweing</td>\n",
              "      <td>Thursday</td>\n",
              "      <td>8</td>\n",
              "      <td>0.80</td>\n",
              "      <td>26.16</td>\n",
              "      <td>1108.0</td>\n",
              "      <td>7080</td>\n",
              "      <td>98</td>\n",
              "      <td>0.0</td>\n",
              "      <td>0</td>\n",
              "      <td>0</td>\n",
              "      <td>59.0</td>\n",
              "      <td>0.940725</td>\n",
              "    </tr>\n",
              "    <tr>\n",
              "      <th>1</th>\n",
              "      <td>1/1/2015</td>\n",
              "      <td>Quarter1</td>\n",
              "      <td>finishing</td>\n",
              "      <td>Thursday</td>\n",
              "      <td>1</td>\n",
              "      <td>0.75</td>\n",
              "      <td>3.94</td>\n",
              "      <td>NaN</td>\n",
              "      <td>960</td>\n",
              "      <td>0</td>\n",
              "      <td>0.0</td>\n",
              "      <td>0</td>\n",
              "      <td>0</td>\n",
              "      <td>8.0</td>\n",
              "      <td>0.886500</td>\n",
              "    </tr>\n",
              "    <tr>\n",
              "      <th>2</th>\n",
              "      <td>1/1/2015</td>\n",
              "      <td>Quarter1</td>\n",
              "      <td>sweing</td>\n",
              "      <td>Thursday</td>\n",
              "      <td>11</td>\n",
              "      <td>0.80</td>\n",
              "      <td>11.41</td>\n",
              "      <td>968.0</td>\n",
              "      <td>3660</td>\n",
              "      <td>50</td>\n",
              "      <td>0.0</td>\n",
              "      <td>0</td>\n",
              "      <td>0</td>\n",
              "      <td>30.5</td>\n",
              "      <td>0.800570</td>\n",
              "    </tr>\n",
              "    <tr>\n",
              "      <th>3</th>\n",
              "      <td>1/1/2015</td>\n",
              "      <td>Quarter1</td>\n",
              "      <td>sweing</td>\n",
              "      <td>Thursday</td>\n",
              "      <td>12</td>\n",
              "      <td>0.80</td>\n",
              "      <td>11.41</td>\n",
              "      <td>968.0</td>\n",
              "      <td>3660</td>\n",
              "      <td>50</td>\n",
              "      <td>0.0</td>\n",
              "      <td>0</td>\n",
              "      <td>0</td>\n",
              "      <td>30.5</td>\n",
              "      <td>0.800570</td>\n",
              "    </tr>\n",
              "    <tr>\n",
              "      <th>4</th>\n",
              "      <td>1/1/2015</td>\n",
              "      <td>Quarter1</td>\n",
              "      <td>sweing</td>\n",
              "      <td>Thursday</td>\n",
              "      <td>6</td>\n",
              "      <td>0.80</td>\n",
              "      <td>25.90</td>\n",
              "      <td>1170.0</td>\n",
              "      <td>1920</td>\n",
              "      <td>50</td>\n",
              "      <td>0.0</td>\n",
              "      <td>0</td>\n",
              "      <td>0</td>\n",
              "      <td>56.0</td>\n",
              "      <td>0.800382</td>\n",
              "    </tr>\n",
              "  </tbody>\n",
              "</table>\n",
              "</div>"
            ],
            "text/plain": [
              "       date   quarter  department       day  team  targeted_productivity  \\\n",
              "0  1/1/2015  Quarter1      sweing  Thursday     8                   0.80   \n",
              "1  1/1/2015  Quarter1  finishing   Thursday     1                   0.75   \n",
              "2  1/1/2015  Quarter1      sweing  Thursday    11                   0.80   \n",
              "3  1/1/2015  Quarter1      sweing  Thursday    12                   0.80   \n",
              "4  1/1/2015  Quarter1      sweing  Thursday     6                   0.80   \n",
              "\n",
              "     smv     wip  over_time  incentive  idle_time  idle_men  \\\n",
              "0  26.16  1108.0       7080         98        0.0         0   \n",
              "1   3.94     NaN        960          0        0.0         0   \n",
              "2  11.41   968.0       3660         50        0.0         0   \n",
              "3  11.41   968.0       3660         50        0.0         0   \n",
              "4  25.90  1170.0       1920         50        0.0         0   \n",
              "\n",
              "   no_of_style_change  no_of_workers  actual_productivity  \n",
              "0                   0           59.0             0.940725  \n",
              "1                   0            8.0             0.886500  \n",
              "2                   0           30.5             0.800570  \n",
              "3                   0           30.5             0.800570  \n",
              "4                   0           56.0             0.800382  "
            ]
          },
          "execution_count": 6,
          "metadata": {},
          "output_type": "execute_result"
        }
      ],
      "source": [
        "data=pd.read_csv('./content/garments_worker_productivity.csv')\n",
        "data.head()"
      ]
    },
    {
      "cell_type": "code",
      "execution_count": null,
      "metadata": {
        "id": "Ky-_5S7oBQgI"
      },
      "outputs": [],
      "source": [
        "corrMatrix=data.corr()\n",
        "fig, ax= plt.subplots(figsize=(15,15))\n",
        "sns.heatmap(corrMatrix, annot=True, linewidths=0.5, ax=ax)\n",
        "plt.show()"
      ]
    },
    {
      "cell_type": "code",
      "execution_count": null,
      "metadata": {
        "id": "aXIBHqMUBXSD"
      },
      "outputs": [],
      "source": [
        "data.describe()"
      ]
    },
    {
      "cell_type": "code",
      "execution_count": null,
      "metadata": {
        "id": "d0j5Q5ycBf6d"
      },
      "outputs": [],
      "source": [
        "data.shape"
      ]
    },
    {
      "cell_type": "code",
      "execution_count": null,
      "metadata": {
        "id": "O1mZSpMBBf1t"
      },
      "outputs": [],
      "source": [
        "data.info()"
      ]
    },
    {
      "cell_type": "code",
      "execution_count": null,
      "metadata": {
        "id": "xPR05KYPBzAC"
      },
      "outputs": [],
      "source": [
        "data.isnull().sum()"
      ]
    },
    {
      "cell_type": "code",
      "execution_count": null,
      "metadata": {
        "id": "nIYVQjQ0CASU"
      },
      "outputs": [],
      "source": [
        "data.drop(['wip'],axis=1,inplace=True)"
      ]
    },
    {
      "cell_type": "code",
      "execution_count": null,
      "metadata": {
        "id": "CSw1iAvYCRy6"
      },
      "outputs": [],
      "source": [
        "data['date']=pd.to_datetime(data['date'])\n",
        "data.date"
      ]
    },
    {
      "cell_type": "code",
      "execution_count": null,
      "metadata": {
        "id": "ZKHFFNlQCcM-"
      },
      "outputs": [],
      "source": [
        "data['month']=data['date'].dt.month\n",
        "data.drop(['date'],axis=1,inplace=True)\n",
        "data.month"
      ]
    },
    {
      "cell_type": "code",
      "execution_count": null,
      "metadata": {
        "id": "rxFCyb2nGyUw"
      },
      "outputs": [],
      "source": [
        "data['department'].value_counts()"
      ]
    },
    {
      "cell_type": "code",
      "execution_count": null,
      "metadata": {
        "id": "l8bvgZf4G5mq"
      },
      "outputs": [],
      "source": [
        "data['department']=data['department'].apply(lambda x: 'finishing' if x.replace(\" \",\"\") == 'finishing' else 'sweing')\n",
        "data['department'].value_counts()"
      ]
    },
    {
      "cell_type": "code",
      "execution_count": null,
      "metadata": {
        "id": "fkbeMxIpHgVy"
      },
      "outputs": [],
      "source": [
        "Mcle=MultiColumnLabelEncoder.MultiColumnLabelEncoder()\n",
        "data=Mcle.fit_transform(data)"
      ]
    },
    {
      "cell_type": "code",
      "execution_count": null,
      "metadata": {
        "id": "qzDCDJQ7H1ux"
      },
      "outputs": [],
      "source": [
        "x=data.drop(['actual_productivity'],axis=1)\n",
        "y=data['actual_productivity']\n",
        "X=x.to_numpy()\n",
        "X"
      ]
    },
    {
      "cell_type": "code",
      "execution_count": null,
      "metadata": {
        "id": "7b8JQs7GINpC"
      },
      "outputs": [],
      "source": [
        "x_train,x_test,y_train,y_test=train_test_split(X,y,test_size=0.8,random_state=0)"
      ]
    },
    {
      "cell_type": "code",
      "execution_count": null,
      "metadata": {
        "id": "SG07Aa4uIbUj"
      },
      "outputs": [],
      "source": [
        "model_lr=LinearRegression()\n",
        "pred_test=model_lr.predict(x_test)\n",
        "print(\"test_MSE:\",mean_squared_error(y_test,pred_test))\n",
        "print(\"test_MAE:\",mean_absolute_error(y_test,pred_test))\n",
        "print(\"R2_Score:{}\".format(r2_score(y_test,pred_test)))"
      ]
    },
    {
      "cell_type": "code",
      "execution_count": null,
      "metadata": {
        "id": "2rachPSOJNJn"
      },
      "outputs": [],
      "source": [
        "model_rf=RandomForestRegressor(n_estimators=200, max_depth=5)\n",
        "pred=model_rf.predict(x_test)\n",
        "print(\"test_MSE:\",mean_squared_error(y_test,pred))\n",
        "print(\"test_MAE:\",mean_absolute_error(y_test,pred))\n",
        "print(\"R2_Score:{}\".format(r2_score(y_test,pred)))"
      ]
    },
    {
      "cell_type": "code",
      "execution_count": null,
      "metadata": {
        "id": "W0rohbTOJwLf"
      },
      "outputs": [],
      "source": [
        "model_xgb = xgb.XGBRegressor(n_estimators = 200, max_depth=5,learning_rate = 0.1)\n",
        "pred3=model_xgb.predict(x_test)\n",
        "print(\"test_MSE:\",mean_squared_error(y_test,pred3))\n",
        "print(\"test_MAE:\",mean_absolute_error(y_test,pred3))\n",
        "print(\"R2_Score:{}\".format(r2_score(y_test,pred3)))"
      ]
    }
  ],
  "metadata": {
    "colab": {
      "provenance": []
    },
    "kernelspec": {
      "display_name": "base",
      "language": "python",
      "name": "python3"
    },
    "language_info": {
      "codemirror_mode": {
        "name": "ipython",
        "version": 3
      },
      "file_extension": ".py",
      "mimetype": "text/x-python",
      "name": "python",
      "nbconvert_exporter": "python",
      "pygments_lexer": "ipython3",
      "version": "3.12.7"
    }
  },
  "nbformat": 4,
  "nbformat_minor": 0
}
